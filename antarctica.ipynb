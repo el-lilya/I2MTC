{
 "cells": [
  {
   "cell_type": "code",
   "execution_count": null,
   "id": "932c9e07",
   "metadata": {},
   "outputs": [],
   "source": [
    "import torch\n",
    "\n",
    "from ds.models import ModelBaseline\n",
    "from ds.runner import Runner, run_epoch\n",
    "from ds.tensorboard import TensorboardExperiment\n",
    "\n",
    "from ds.load_data import get_data, train_test_split, get_transforms\n",
    "from ds.dataset import create_data_loader\n",
    "\n",
    "# tensorboard --logdir runs\n",
    "\n",
    "# Hyperparameters\n",
    "EPOCH_COUNT = 2\n",
    "LR = 1e-4  # 5e-5\n",
    "LOG_PATH = \"./runs\"\n",
    "batch_size = 4\n",
    "\n",
    "# Data configuration\n",
    "# root = '/content/drive/MyDrive/I2MTC' # for colab\n",
    "root = '.'\n",
    "data_dir = \"./data/classification_20_clean\"\n",
    "\n",
    "\n",
    "device = torch.device(\"cuda:0\" if torch.cuda.is_available() else \"cpu\")\n",
    "baseline_name = 'resnet50'\n",
    "\n",
    "# experiment settings\n",
    "kk = [1, 2, 3]\n",
    "number_of_exp = 2"
   ]
  },
  {
   "cell_type": "code",
   "execution_count": 1,
   "id": "b496b843",
   "metadata": {},
   "outputs": [
    {
     "name": "stdout",
     "output_type": "stream",
     "text": [
      "3.9.7\n"
     ]
    }
   ],
   "source": [
    "from platform import python_version\n",
    "\n",
    "print(python_version())"
   ]
  },
  {
   "cell_type": "code",
   "execution_count": null,
   "id": "501e1674",
   "metadata": {},
   "outputs": [],
   "source": [
    "df, num_classes = get_data(root, data_dir)\n",
    "\n",
    "for k in kk:\n",
    "    for experiment in range(number_of_exp):\n",
    "        # Setup the experiment tracker\n",
    "        tracker = TensorboardExperiment(log_path=LOG_PATH+'/'+f'k={k}/{experiment}')\n",
    "\n",
    "        # Create the data loaders\n",
    "        train, test = train_test_split(df, k, experiment)\n",
    "        train.to_csv(f'./splits/train_k{k}_#{experiment}')\n",
    "        transforms = get_transforms()\n",
    "        train_loader = create_data_loader(annotations_file=train, root=root, transform=transforms['train'],\n",
    "                                          batch_size=batch_size)\n",
    "        test_loader = create_data_loader(annotations_file=test, root=root, transform=transforms['test'],\n",
    "                                         batch_size=batch_size)\n",
    "\n",
    "        # Model and Optimizer\n",
    "        model = ModelBaseline(baseline_name, num_classes)\n",
    "        model.to(device)\n",
    "        optimizer = torch.optim.Adam(model.parameters(), lr=LR)\n",
    "\n",
    "        # Create the runners\n",
    "        test_runner = Runner(test_loader, model)\n",
    "        train_runner = Runner(train_loader, model, optimizer)\n",
    "\n",
    "        # Run the epochs\n",
    "        for epoch_id in range(EPOCH_COUNT):\n",
    "\n",
    "            run_epoch(test_runner, train_runner, tracker, epoch_id)\n",
    "\n",
    "            # Compute Average Epoch Metrics\n",
    "            summary = \", \".join(\n",
    "                [\n",
    "                    f\"[Epoch: {epoch_id + 1}/{EPOCH_COUNT}]\",\n",
    "                    f\"Test Accuracy: {test_runner.avg_accuracy: 0.4f}\",\n",
    "                    f\"Train Accuracy: {train_runner.avg_accuracy: 0.4f}\",\n",
    "                ]\n",
    "            )\n",
    "            print(\"\\n\" + summary + \"\\n\")\n",
    "\n",
    "            # Flush the tracker after every epoch for live updates\n",
    "            tracker.add_hparams({'k': k, '#_of_exp': experiment, 'epochs': EPOCH_COUNT, 'batch_size': batch_size},\n",
    "                                {'train_accuracy': train_runner.avg_accuracy,\n",
    "                                 'test_accuracy': test_runner.avg_accuracy})\n",
    "            # Reset the runners\n",
    "            train_runner.reset()\n",
    "            test_runner.reset()\n",
    "            tracker.flush()"
   ]
  }
 ],
 "metadata": {
  "kernelspec": {
   "display_name": "Python 3 (ipykernel)",
   "language": "python",
   "name": "python3"
  },
  "language_info": {
   "codemirror_mode": {
    "name": "ipython",
    "version": 3
   },
   "file_extension": ".py",
   "mimetype": "text/x-python",
   "name": "python",
   "nbconvert_exporter": "python",
   "pygments_lexer": "ipython3",
   "version": "3.9.7"
  }
 },
 "nbformat": 4,
 "nbformat_minor": 5
}
